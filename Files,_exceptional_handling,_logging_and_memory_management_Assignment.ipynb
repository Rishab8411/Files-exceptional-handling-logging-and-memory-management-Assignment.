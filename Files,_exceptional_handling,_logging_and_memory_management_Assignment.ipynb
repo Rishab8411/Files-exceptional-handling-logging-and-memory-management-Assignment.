{
  "nbformat": 4,
  "nbformat_minor": 0,
  "metadata": {
    "colab": {
      "provenance": []
    },
    "kernelspec": {
      "name": "python3",
      "display_name": "Python 3"
    },
    "language_info": {
      "name": "python"
    }
  },
  "cells": [
    {
      "cell_type": "markdown",
      "source": [
        "**Files, Exceptional Handling, Logging &\n",
        "Memory Management Questions:--**\n",
        "\n",
        "\n",
        "\n",
        "---\n",
        "\n",
        "\n",
        "\n"
      ],
      "metadata": {
        "id": "HNceg-pMz5Ti"
      }
    },
    {
      "cell_type": "markdown",
      "source": [
        "1. What is the difference between interpreted and compiled languages?\n",
        "    - Interpreted languages execute code line by line, making debugging easier but slower in execution (e.g., Python, JavaScript). Compiled languages translate the entire code into machine language before execution, making them faster but requiring a compilation step (e.g., C, C++).\n",
        "\n",
        "2. What is exception handling in Python?\n",
        "    - Exception handling in Python is a way to manage runtime errors using try, except, finally, and else blocks. It prevents programs from crashing when errors like division by zero or file not found occur.\n",
        "\n",
        "3. What is the purpose of the finally block in exception handling?\n",
        "    - The finally block is used to execute code regardless of whether an exception occurs or not. It's mainly used for cleanup operations like closing files or releasing resources.\n",
        "\n",
        "4. What is logging in Python?\n",
        "    - Logging is used to track events in a program. Instead of printing messages, we use the logging module to store logs at different levels (DEBUG, INFO, WARNING, ERROR, CRITICAL). This helps in debugging and monitoring applications.\n",
        "\n",
        "5. What is the significance of the __del__ method in Python?\n",
        "    - The __del__ method is a destructor that gets called when an object is deleted or goes out of scope. It helps in resource cleanup, like closing database connections or files.\n",
        "\n",
        "6. What is the difference between import and from ... import in Python?\n",
        "\n",
        "    - import module_name imports the entire module, and we access functions using module_name.function().\n",
        "\n",
        "    - from module_name import function_name imports only specific functions or variables, so we can use function_name() directly.\n",
        "\n",
        "7. How can you handle multiple exceptions in Python?\n",
        "  We can handle multiple exceptions using:\n",
        "\n",
        "    - Multiple except blocks for different exceptions.\n",
        "\n",
        "    - A single except block with a tuple, e.g., except (TypeError, ValueError) as e: to catch both errors.\n",
        "\n",
        "8. What is the purpose of the with statement when handling files in Python?\n",
        "    - The with statement is used for file handling because it automatically closes the file after execution, even if an error occurs."
      ],
      "metadata": {
        "id": "9v6EvgJU0tQs"
      }
    },
    {
      "cell_type": "code",
      "source": [
        "#Example:\n",
        "with open(\"file.txt\", \"r\") as f:\n",
        "    data = f.read()\n"
      ],
      "metadata": {
        "id": "722vMbaz1igQ"
      },
      "execution_count": null,
      "outputs": []
    },
    {
      "cell_type": "markdown",
      "source": [
        "9. What is the difference between multithreading and multiprocessing?\n",
        "\n",
        "    - Multithreading: Runs multiple threads in the same process, sharing memory. It’s useful for I/O-bound tasks.\n",
        "\n",
        "    - Multiprocessing: Runs multiple processes, each with its own memory space, making it better for CPU-bound tasks.\n",
        "\n",
        "10. What are the advantages of using logging in a program?\n",
        "\n",
        "    - Helps track and debug errors without using print statements.\n",
        "\n",
        "    - Stores logs for future analysis.\n",
        "\n",
        "    - Supports different levels (DEBUG, INFO, WARNING, ERROR, CRITICAL).\n",
        "\n",
        "    - Can log to files instead of cluttering the console.\n",
        "\n",
        "11. What is memory management in Python?\n",
        "    - Memory management in Python is handled automatically using techniques like reference counting, garbage collection, and dynamic memory allocation. The gc module helps manage unused objects and free up memory.\n",
        "\n",
        "12. What are the basic steps involved in exception handling in Python?\n",
        "\n",
        "    - Use try to write the risky code.\n",
        "\n",
        "    - Use except to handle specific errors.\n",
        "\n",
        "    - Optionally, use else to execute code if no exception occurs.\n",
        "\n",
        "    - Use finally for cleanup actions like closing files.\n",
        "\n",
        "13. Why is memory management important in Python?\n",
        "    - Proper memory management prevents memory leaks, improves performance, and ensures efficient use of system resources. It helps programs run smoothly without consuming unnecessary memory.\n",
        "\n",
        "14. What is the role of try and except in exception handling?\n",
        "    - The try block contains the code that might raise an exception, while the except block catches and handles the error to prevent the program from crashing.\n",
        "\n",
        "15. How does Python's garbage collection system work?\n",
        "    - Python uses reference counting (deletes objects when references drop to zero) and garbage collection (removes circular references) to free memory automatically. The gc module can be used to control garbage collection.\n",
        "\n",
        "16. What is the purpose of the else block in exception handling?\n",
        "    - The else block runs only if no exception occurs in the try block. It is useful for keeping normal execution separate from error handling.\n",
        "\n",
        "17. What are the common logging levels in Python?\n",
        "\n",
        "    - DEBUG – Detailed info for debugging\n",
        "\n",
        "    - INFO – General program updates\n",
        "\n",
        "    - WARNING – Something unexpected but not critical\n",
        "\n",
        "    - ERROR – A serious issue that needs fixing\n",
        "\n",
        "    - CRITICAL – A major error that may stop the program\n",
        "\n",
        "18. What is the difference between os.fork() and multiprocessing in Python?\n",
        "\n",
        "    - os.fork() creates a child process that is an exact copy of the parent (only on Unix/Linux).\n",
        "\n",
        "    - The multiprocessing module works on all OS and allows easy process management with better control.\n",
        "\n",
        "19. What is the importance of closing a file in Python?\n",
        "    - Closing a file ensures that all data is properly saved, prevents memory leaks, and releases system resources. The with statement automatically handles this.\n",
        "\n",
        "20. What is the difference between file.read() and file.readline() in Python?\n",
        "\n",
        "    - file.read() reads the entire file as a string.\n",
        "\n",
        "    - file.readline() reads only one line at a time.\n",
        "\n",
        "21. What is the logging module in Python used for?\n",
        "    - The logging module is used to record program events, track errors, and save logs for debugging and monitoring purposes.\n",
        "\n",
        "22. What is the os module in Python used for in file handling?\n",
        "    - The os module provides functions to work with files and directories, such as os.remove(), os.rename(), os.path.exists(), and os.listdir().\n",
        "\n",
        "23. What are the challenges associated with memory management in Python?\n",
        "\n",
        "    - Circular references can cause memory leaks.\n",
        "\n",
        "    - High memory usage due to dynamic typing.\n",
        "\n",
        "    - The garbage collector may not immediately free memory.\n",
        "\n",
        "24. How do you raise an exception manually in Python?\n",
        "    - Use the raise"
      ],
      "metadata": {
        "id": "T37I6vSi1oxK"
      }
    },
    {
      "cell_type": "code",
      "source": [
        "# keyword:\n",
        "raise ValueError(\"Invalid input\")\n"
      ],
      "metadata": {
        "id": "Rptoc3_v3ADs"
      },
      "execution_count": null,
      "outputs": []
    },
    {
      "cell_type": "markdown",
      "source": [
        "25. Why is it important to use multithreading in certain applications?\n",
        "    - Multithreading helps in running multiple tasks simultaneously, improving performance in I/O-bound applications like web scraping, file handling, and networking.\n",
        "\n"
      ],
      "metadata": {
        "id": "Dwvg0Y5Y3GAN"
      }
    },
    {
      "cell_type": "markdown",
      "source": [
        "**Practical Questions:--**\n",
        "\n",
        "---\n",
        "\n"
      ],
      "metadata": {
        "id": "5g_wBnbl41oj"
      }
    },
    {
      "cell_type": "markdown",
      "source": [
        "1. How can you open a file for writing in Python and write a string to it?\n",
        "    - We can open a file using the open() function with mode \"w\" (write mode)."
      ],
      "metadata": {
        "id": "RIhEXayR5T48"
      }
    },
    {
      "cell_type": "code",
      "source": [
        "with open(\"example.txt\", \"w\") as file:\n",
        "    file.write(\"Hello, this is a test file.\")\n"
      ],
      "metadata": {
        "id": "i0aiFHgCB5Ir"
      },
      "execution_count": null,
      "outputs": []
    },
    {
      "cell_type": "markdown",
      "source": [
        "2. Write a Python program to read the contents of a file and print each line?"
      ],
      "metadata": {
        "id": "FRX500IfB7tO"
      }
    },
    {
      "cell_type": "code",
      "source": [
        "with open(\"example.txt\", \"r\") as file:\n",
        "    for line in file:\n",
        "        print(line.strip())  # strip() removes extra spaces or newlines\n"
      ],
      "metadata": {
        "id": "3smzNmHXCCPi"
      },
      "execution_count": null,
      "outputs": []
    },
    {
      "cell_type": "markdown",
      "source": [
        "3. How would you handle a case where the file doesn't exist while trying to open it for reading?\n",
        "    - We can use try-except to catch the error:"
      ],
      "metadata": {
        "id": "wxNLsPn7CGNp"
      }
    },
    {
      "cell_type": "code",
      "source": [
        "try:\n",
        "    with open(\"missing_file.txt\", \"r\") as file:\n",
        "        content = file.read()\n",
        "        print(content)\n",
        "except FileNotFoundError:\n",
        "    print(\"Error: The file does not exist.\")\n"
      ],
      "metadata": {
        "id": "q4jAI4XXCMeS"
      },
      "execution_count": null,
      "outputs": []
    },
    {
      "cell_type": "markdown",
      "source": [
        "4. Write a Python script that reads from one file and writes its content to another file?"
      ],
      "metadata": {
        "id": "lm44bapjCOyt"
      }
    },
    {
      "cell_type": "code",
      "source": [
        "with open(\"source.txt\", \"r\") as src, open(\"destination.txt\", \"w\") as dest:\n",
        "    dest.write(src.read())\n"
      ],
      "metadata": {
        "id": "2H7Vz85FCSm8"
      },
      "execution_count": null,
      "outputs": []
    },
    {
      "cell_type": "markdown",
      "source": [
        "5. How would you catch and handle a division by zero error in Python?\n"
      ],
      "metadata": {
        "id": "n9j9bjYjCVul"
      }
    },
    {
      "cell_type": "code",
      "source": [
        "try:\n",
        "    a = int(input(\"Enter a number: \"))\n",
        "    result = 10 / a\n",
        "    print(\"Result:\", result)\n",
        "except ZeroDivisionError:\n",
        "    print(\"Error: Cannot divide by zero.\")\n"
      ],
      "metadata": {
        "id": "APuq51LNCakD"
      },
      "execution_count": null,
      "outputs": []
    },
    {
      "cell_type": "markdown",
      "source": [
        "6. Write a Python program that logs an error message to a log file when a division by zero exception occurs?"
      ],
      "metadata": {
        "id": "l7o2nojiCerL"
      }
    },
    {
      "cell_type": "code",
      "source": [
        "import logging\n",
        "\n",
        "logging.basicConfig(filename=\"error.log\", level=logging.ERROR)\n",
        "\n",
        "try:\n",
        "    num = 10 / 0\n",
        "except ZeroDivisionError:\n",
        "    logging.error(\"Division by zero error occurred.\")\n"
      ],
      "metadata": {
        "id": "Sy-eZD4SC1wO"
      },
      "execution_count": null,
      "outputs": []
    },
    {
      "cell_type": "markdown",
      "source": [
        "7. How do you log information at different levels (INFO, ERROR, WARNING) in Python using the logging module?"
      ],
      "metadata": {
        "id": "XT5vLm3bC4bM"
      }
    },
    {
      "cell_type": "code",
      "source": [
        "import logging\n",
        "\n",
        "logging.basicConfig(level=logging.DEBUG)\n",
        "\n",
        "logging.info(\"This is an info message.\")\n",
        "logging.warning(\"This is a warning message.\")\n",
        "logging.error(\"This is an error message.\")\n"
      ],
      "metadata": {
        "id": "Xq9uoYWyDDZm"
      },
      "execution_count": null,
      "outputs": []
    },
    {
      "cell_type": "markdown",
      "source": [
        "8. Write a program to handle a file opening error using exception handling?"
      ],
      "metadata": {
        "id": "sDLsHjt-DHkM"
      }
    },
    {
      "cell_type": "code",
      "source": [
        "try:\n",
        "    with open(\"non_existent_file.txt\", \"r\") as file:\n",
        "        print(file.read())\n",
        "except FileNotFoundError:\n",
        "    print(\"Error: File not found.\")\n"
      ],
      "metadata": {
        "id": "0Mce7gb9DRrg"
      },
      "execution_count": null,
      "outputs": []
    },
    {
      "cell_type": "markdown",
      "source": [
        "9. How can you read a file line by line and store its content in a list in Python?\n"
      ],
      "metadata": {
        "id": "5CD0kaePDfi-"
      }
    },
    {
      "cell_type": "code",
      "source": [
        "with open(\"example.txt\", \"r\") as file:\n",
        "    lines = file.readlines()\n",
        "print(lines)  # This will store each line as a list element\n"
      ],
      "metadata": {
        "id": "7B_N6BlCDpBv"
      },
      "execution_count": null,
      "outputs": []
    },
    {
      "cell_type": "markdown",
      "source": [
        "10. How can you append data to an existing file in Python?"
      ],
      "metadata": {
        "id": "-8hds8sKDrbL"
      }
    },
    {
      "cell_type": "code",
      "source": [
        "with open(\"example.txt\", \"a\") as file:\n",
        "    file.write(\"\\nThis is an added line.\")\n"
      ],
      "metadata": {
        "id": "kGUx1U6sDvuZ"
      },
      "execution_count": null,
      "outputs": []
    },
    {
      "cell_type": "markdown",
      "source": [
        "11. Write a Python program that uses a try-except block to handle an error when attempting to access a dictionary key that doesn't exist?"
      ],
      "metadata": {
        "id": "sM5LLMIwDzQ0"
      }
    },
    {
      "cell_type": "code",
      "source": [
        "my_dict = {\"name\": \"Alice\", \"age\": 25}\n",
        "\n",
        "try:\n",
        "    print(my_dict[\"city\"])  # Key doesn't exist\n",
        "except KeyError:\n",
        "    print(\"Error: The key 'city' does not exist in the dictionary.\")\n"
      ],
      "metadata": {
        "id": "opG3XaHGD2d9"
      },
      "execution_count": null,
      "outputs": []
    },
    {
      "cell_type": "markdown",
      "source": [
        "12. Write a program that demonstrates using multiple except blocks to handle different types of exceptions?"
      ],
      "metadata": {
        "id": "zvOZ5paMD6RI"
      }
    },
    {
      "cell_type": "code",
      "source": [
        "try:\n",
        "    num = int(input(\"Enter a number: \"))\n",
        "    result = 10 / num\n",
        "except ZeroDivisionError:\n",
        "    print(\"Error: Cannot divide by zero.\")\n",
        "except ValueError:\n",
        "    print(\"Error: Invalid input. Please enter a number.\")\n"
      ],
      "metadata": {
        "id": "lucHbQCND9ct"
      },
      "execution_count": null,
      "outputs": []
    },
    {
      "cell_type": "markdown",
      "source": [
        "13. How would you check if a file exists before attempting to read it in Python?"
      ],
      "metadata": {
        "id": "RFyPpYwDD-6a"
      }
    },
    {
      "cell_type": "code",
      "source": [
        "import os\n",
        "\n",
        "filename = \"example.txt\"\n",
        "if os.path.exists(filename):\n",
        "    with open(filename, \"r\") as file:\n",
        "        print(file.read())\n",
        "else:\n",
        "    print(\"Error: File does not exist.\")\n"
      ],
      "metadata": {
        "id": "yuKV7iklEB83"
      },
      "execution_count": null,
      "outputs": []
    },
    {
      "cell_type": "markdown",
      "source": [
        "14. Write a program that uses the logging module to log both informational and error messages?"
      ],
      "metadata": {
        "id": "AvXDWkLZEIbr"
      }
    },
    {
      "cell_type": "code",
      "source": [
        "import logging\n",
        "\n",
        "logging.basicConfig(filename=\"app.log\", level=logging.INFO)\n",
        "\n",
        "try:\n",
        "    result = 10 / 0\n",
        "except ZeroDivisionError:\n",
        "    logging.error(\"Error: Division by zero!\")\n",
        "logging.info(\"Program executed successfully.\")\n"
      ],
      "metadata": {
        "id": "L_IFvFVdELyZ"
      },
      "execution_count": null,
      "outputs": []
    },
    {
      "cell_type": "markdown",
      "source": [
        "15. Write a Python program that prints the content of a file and handles the case when the file is empty?"
      ],
      "metadata": {
        "id": "wyzsS0AZENFE"
      }
    },
    {
      "cell_type": "code",
      "source": [
        "with open(\"example.txt\", \"r\") as file:\n",
        "    content = file.read()\n",
        "    if content:\n",
        "        print(content)\n",
        "    else:\n",
        "        print(\"The file is empty.\")\n"
      ],
      "metadata": {
        "id": "R5byLCOtER0O"
      },
      "execution_count": null,
      "outputs": []
    },
    {
      "cell_type": "markdown",
      "source": [
        "16. Demonstrate how to use memory profiling to check the memory usage of a small program?"
      ],
      "metadata": {
        "id": "u4WB8viWEY7l"
      }
    },
    {
      "cell_type": "code",
      "source": [
        "from memory_profiler import profile\n",
        "\n",
        "@profile\n",
        "def my_function():\n",
        "    data = [i for i in range(10000)]\n",
        "    return sum(data)\n",
        "\n",
        "my_function()\n"
      ],
      "metadata": {
        "id": "iyzuO_fPGtEi"
      },
      "execution_count": null,
      "outputs": []
    },
    {
      "cell_type": "markdown",
      "source": [
        "17. Write a Python program to create and write a list of numbers to a file, one number per line?"
      ],
      "metadata": {
        "id": "UUu5B6SVGvyK"
      }
    },
    {
      "cell_type": "code",
      "source": [
        "numbers = [1, 2, 3, 4, 5]\n",
        "\n",
        "with open(\"numbers.txt\", \"w\") as file:\n",
        "    for num in numbers:\n",
        "        file.write(str(num) + \"\\n\")\n"
      ],
      "metadata": {
        "id": "irM6yHO1GzhG"
      },
      "execution_count": null,
      "outputs": []
    },
    {
      "cell_type": "markdown",
      "source": [
        "18. How would you implement a basic logging setup that logs to a file with rotation after 1MB?"
      ],
      "metadata": {
        "id": "yLWDvbqtG15l"
      }
    },
    {
      "cell_type": "code",
      "source": [
        "import logging\n",
        "from logging.handlers import RotatingFileHandler\n",
        "\n",
        "logger = logging.getLogger(\"RotatingLog\")\n",
        "logger.setLevel(logging.INFO)\n",
        "\n",
        "handler = RotatingFileHandler(\"app.log\", maxBytes=1_000_000, backupCount=3)\n",
        "logger.addHandler(handler)\n",
        "\n",
        "logger.info(\"This is an informational message.\")\n"
      ],
      "metadata": {
        "id": "mMzHcQvEG5We"
      },
      "execution_count": null,
      "outputs": []
    },
    {
      "cell_type": "markdown",
      "source": [
        "19. Write a program that handles both IndexError and KeyError using a try-except block?"
      ],
      "metadata": {
        "id": "Utz40aKCG9SJ"
      }
    },
    {
      "cell_type": "code",
      "source": [
        "my_list = [1, 2, 3]\n",
        "my_dict = {\"name\": \"Alice\"}\n",
        "\n",
        "try:\n",
        "    print(my_list[5])  # IndexError\n",
        "    print(my_dict[\"age\"])  # KeyError\n",
        "except IndexError:\n",
        "    print(\"Error: List index out of range.\")\n",
        "except KeyError:\n",
        "    print(\"Error: Dictionary key not found.\")\n"
      ],
      "metadata": {
        "id": "i6uA3BW_HBZf"
      },
      "execution_count": null,
      "outputs": []
    },
    {
      "cell_type": "markdown",
      "source": [
        "20. How would you open a file and read its contents using a context manager in Python?"
      ],
      "metadata": {
        "id": "6G04XnN_HFFa"
      }
    },
    {
      "cell_type": "code",
      "source": [
        "with open(\"example.txt\", \"r\") as file:\n",
        "    content = file.read()\n",
        "    print(content)\n"
      ],
      "metadata": {
        "id": "Jgkteoz_HJqq"
      },
      "execution_count": null,
      "outputs": []
    },
    {
      "cell_type": "markdown",
      "source": [
        "21. Write a Python program that reads a file and prints the number of occurrences of a specific word?"
      ],
      "metadata": {
        "id": "ejt_8gqkHLm6"
      }
    },
    {
      "cell_type": "code",
      "source": [
        "word_to_count = \"Python\"\n",
        "\n",
        "with open(\"example.txt\", \"r\") as file:\n",
        "    content = file.read()\n",
        "    count = content.lower().split().count(word_to_count.lower())\n",
        "\n",
        "print(f\"The word '{word_to_count}' appears {count} times in the file.\")\n"
      ],
      "metadata": {
        "id": "ZtfjpZNnHOqI"
      },
      "execution_count": null,
      "outputs": []
    },
    {
      "cell_type": "markdown",
      "source": [
        "22. How can you check if a file is empty before attempting to read its contents?"
      ],
      "metadata": {
        "id": "1GC10udPHRCx"
      }
    },
    {
      "cell_type": "code",
      "source": [
        "import os\n",
        "\n",
        "filename = \"example.txt\"\n",
        "if os.path.exists(filename) and os.path.getsize(filename) > 0:\n",
        "    with open(filename, \"r\") as file:\n",
        "        print(file.read())\n",
        "else:\n",
        "    print(\"Error: File is empty or does not exist.\")\n"
      ],
      "metadata": {
        "id": "opRnWSQSHV6q"
      },
      "execution_count": null,
      "outputs": []
    },
    {
      "cell_type": "markdown",
      "source": [
        "23. Write a Python program that writes to a log file when an error occurs during file handling?"
      ],
      "metadata": {
        "id": "9paYo1b4HYPk"
      }
    },
    {
      "cell_type": "code",
      "source": [
        "import logging\n",
        "\n",
        "logging.basicConfig(filename=\"file_errors.log\", level=logging.ERROR)\n",
        "\n",
        "try:\n",
        "    with open(\"nonexistent.txt\", \"r\") as file:\n",
        "        print(file.read())\n",
        "except FileNotFoundError:\n",
        "    logging.error(\"Error: Attempted to open a non-existent file.\")\n"
      ],
      "metadata": {
        "id": "bbJbskeLHb7z"
      },
      "execution_count": null,
      "outputs": []
    },
    {
      "cell_type": "markdown",
      "source": [],
      "metadata": {
        "id": "mkvyH90RG13k"
      }
    }
  ]
}